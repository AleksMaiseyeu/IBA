{
  "metadata": {
    "kernelspec": {
      "name": "python",
      "display_name": "Python (Pyodide)",
      "language": "python"
    },
    "language_info": {
      "codemirror_mode": {
        "name": "python",
        "version": 3
      },
      "file_extension": ".py",
      "mimetype": "text/x-python",
      "name": "python",
      "nbconvert_exporter": "python",
      "pygments_lexer": "ipython3",
      "version": "3.8"
    }
  },
  "nbformat_minor": 4,
  "nbformat": 4,
  "cells": [
    {
      "cell_type": "markdown",
      "source": "Вам предстоит проанализировать данные о бронировании отелей. ",
      "metadata": {}
    },
    {
      "cell_type": "markdown",
      "source": "# Задание 1. \n\nИмпортируйте библиотеку pandas как pd. Загрузите датасет bookings.csv с разделителем ;. \nПроверьте размер таблицы, типы переменных, а затем выведите первые 7 строк, чтобы посмотреть на данные.",
      "metadata": {}
    },
    {
      "cell_type": "code",
      "source": "import pandas as pd",
      "metadata": {
        "trusted": true
      },
      "outputs": [],
      "execution_count": 1
    },
    {
      "cell_type": "code",
      "source": "bookDF = pd.read_csv('2_bookings.csv', encoding='windows-1251', sep=';')\nbookDF",
      "metadata": {
        "trusted": true
      },
      "outputs": [
        {
          "execution_count": 41,
          "output_type": "execute_result",
          "data": {
            "text/plain": "               Hotel  Is Canceled  Lead Time arrival full date  \\\n0       Resort Hotel            0        342        2015-07-01   \n1       Resort Hotel            0        737        2015-07-01   \n2       Resort Hotel            0          7        2015-07-01   \n3       Resort Hotel            0         13        2015-07-01   \n4       Resort Hotel            0         14        2015-07-01   \n...              ...          ...        ...               ...   \n119385    City Hotel            0         23        2017-08-30   \n119386    City Hotel            0        102        2017-08-31   \n119387    City Hotel            0         34        2017-08-31   \n119388    City Hotel            0        109        2017-08-31   \n119389    City Hotel            0        205        2017-08-29   \n\n        Arrival Date Year Arrival Date Month  Arrival Date Week Number  \\\n0                    2015               July                        27   \n1                    2015               July                        27   \n2                    2015               July                        27   \n3                    2015               July                        27   \n4                    2015               July                        27   \n...                   ...                ...                       ...   \n119385               2017             August                        35   \n119386               2017             August                        35   \n119387               2017             August                        35   \n119388               2017             August                        35   \n119389               2017             August                        35   \n\n        Arrival Date Day of Month  Stays in Weekend nights  \\\n0                               1                        0   \n1                               1                        0   \n2                               1                        0   \n3                               1                        0   \n4                               1                        0   \n...                           ...                      ...   \n119385                         30                        2   \n119386                         31                        2   \n119387                         31                        2   \n119388                         31                        2   \n119389                         29                        2   \n\n        Stays in week nights  ...  Adults  Children  Babies  Meal Country  \\\n0                          0  ...       2       0.0       0    BB     PRT   \n1                          0  ...       2       0.0       0    BB     PRT   \n2                          1  ...       1       0.0       0    BB     GBR   \n3                          1  ...       1       0.0       0    BB     GBR   \n4                          2  ...       2       0.0       0    BB     GBR   \n...                      ...  ...     ...       ...     ...   ...     ...   \n119385                     5  ...       2       0.0       0    BB     BEL   \n119386                     5  ...       3       0.0       0    BB     FRA   \n119387                     5  ...       2       0.0       0    BB     DEU   \n119388                     5  ...       2       0.0       0    BB     GBR   \n119389                     7  ...       2       0.0       0    HB     DEU   \n\n       Reserved Room Type Assigned room type customer type Reservation Status  \\\n0                       C                  C     Transient          Check-Out   \n1                       C                  C     Transient          Check-Out   \n2                       A                  C     Transient          Check-Out   \n3                       A                  A     Transient          Check-Out   \n4                       A                  A     Transient          Check-Out   \n...                   ...                ...           ...                ...   \n119385                  A                  A     Transient          Check-Out   \n119386                  E                  E     Transient          Check-Out   \n119387                  D                  D     Transient          Check-Out   \n119388                  A                  A     Transient          Check-Out   \n119389                  A                  A     Transient          Check-Out   \n\n       Reservation status_date  \n0                   2015-07-01  \n1                   2015-07-01  \n2                   2015-07-02  \n3                   2015-07-02  \n4                   2015-07-03  \n...                        ...  \n119385              2017-09-06  \n119386              2017-09-07  \n119387              2017-09-07  \n119388              2017-09-07  \n119389              2017-09-07  \n\n[119390 rows x 21 columns]",
            "text/html": "<div>\n<style scoped>\n    .dataframe tbody tr th:only-of-type {\n        vertical-align: middle;\n    }\n\n    .dataframe tbody tr th {\n        vertical-align: top;\n    }\n\n    .dataframe thead th {\n        text-align: right;\n    }\n</style>\n<table border=\"1\" class=\"dataframe\">\n  <thead>\n    <tr style=\"text-align: right;\">\n      <th></th>\n      <th>Hotel</th>\n      <th>Is Canceled</th>\n      <th>Lead Time</th>\n      <th>arrival full date</th>\n      <th>Arrival Date Year</th>\n      <th>Arrival Date Month</th>\n      <th>Arrival Date Week Number</th>\n      <th>Arrival Date Day of Month</th>\n      <th>Stays in Weekend nights</th>\n      <th>Stays in week nights</th>\n      <th>...</th>\n      <th>Adults</th>\n      <th>Children</th>\n      <th>Babies</th>\n      <th>Meal</th>\n      <th>Country</th>\n      <th>Reserved Room Type</th>\n      <th>Assigned room type</th>\n      <th>customer type</th>\n      <th>Reservation Status</th>\n      <th>Reservation status_date</th>\n    </tr>\n  </thead>\n  <tbody>\n    <tr>\n      <th>0</th>\n      <td>Resort Hotel</td>\n      <td>0</td>\n      <td>342</td>\n      <td>2015-07-01</td>\n      <td>2015</td>\n      <td>July</td>\n      <td>27</td>\n      <td>1</td>\n      <td>0</td>\n      <td>0</td>\n      <td>...</td>\n      <td>2</td>\n      <td>0.0</td>\n      <td>0</td>\n      <td>BB</td>\n      <td>PRT</td>\n      <td>C</td>\n      <td>C</td>\n      <td>Transient</td>\n      <td>Check-Out</td>\n      <td>2015-07-01</td>\n    </tr>\n    <tr>\n      <th>1</th>\n      <td>Resort Hotel</td>\n      <td>0</td>\n      <td>737</td>\n      <td>2015-07-01</td>\n      <td>2015</td>\n      <td>July</td>\n      <td>27</td>\n      <td>1</td>\n      <td>0</td>\n      <td>0</td>\n      <td>...</td>\n      <td>2</td>\n      <td>0.0</td>\n      <td>0</td>\n      <td>BB</td>\n      <td>PRT</td>\n      <td>C</td>\n      <td>C</td>\n      <td>Transient</td>\n      <td>Check-Out</td>\n      <td>2015-07-01</td>\n    </tr>\n    <tr>\n      <th>2</th>\n      <td>Resort Hotel</td>\n      <td>0</td>\n      <td>7</td>\n      <td>2015-07-01</td>\n      <td>2015</td>\n      <td>July</td>\n      <td>27</td>\n      <td>1</td>\n      <td>0</td>\n      <td>1</td>\n      <td>...</td>\n      <td>1</td>\n      <td>0.0</td>\n      <td>0</td>\n      <td>BB</td>\n      <td>GBR</td>\n      <td>A</td>\n      <td>C</td>\n      <td>Transient</td>\n      <td>Check-Out</td>\n      <td>2015-07-02</td>\n    </tr>\n    <tr>\n      <th>3</th>\n      <td>Resort Hotel</td>\n      <td>0</td>\n      <td>13</td>\n      <td>2015-07-01</td>\n      <td>2015</td>\n      <td>July</td>\n      <td>27</td>\n      <td>1</td>\n      <td>0</td>\n      <td>1</td>\n      <td>...</td>\n      <td>1</td>\n      <td>0.0</td>\n      <td>0</td>\n      <td>BB</td>\n      <td>GBR</td>\n      <td>A</td>\n      <td>A</td>\n      <td>Transient</td>\n      <td>Check-Out</td>\n      <td>2015-07-02</td>\n    </tr>\n    <tr>\n      <th>4</th>\n      <td>Resort Hotel</td>\n      <td>0</td>\n      <td>14</td>\n      <td>2015-07-01</td>\n      <td>2015</td>\n      <td>July</td>\n      <td>27</td>\n      <td>1</td>\n      <td>0</td>\n      <td>2</td>\n      <td>...</td>\n      <td>2</td>\n      <td>0.0</td>\n      <td>0</td>\n      <td>BB</td>\n      <td>GBR</td>\n      <td>A</td>\n      <td>A</td>\n      <td>Transient</td>\n      <td>Check-Out</td>\n      <td>2015-07-03</td>\n    </tr>\n    <tr>\n      <th>...</th>\n      <td>...</td>\n      <td>...</td>\n      <td>...</td>\n      <td>...</td>\n      <td>...</td>\n      <td>...</td>\n      <td>...</td>\n      <td>...</td>\n      <td>...</td>\n      <td>...</td>\n      <td>...</td>\n      <td>...</td>\n      <td>...</td>\n      <td>...</td>\n      <td>...</td>\n      <td>...</td>\n      <td>...</td>\n      <td>...</td>\n      <td>...</td>\n      <td>...</td>\n      <td>...</td>\n    </tr>\n    <tr>\n      <th>119385</th>\n      <td>City Hotel</td>\n      <td>0</td>\n      <td>23</td>\n      <td>2017-08-30</td>\n      <td>2017</td>\n      <td>August</td>\n      <td>35</td>\n      <td>30</td>\n      <td>2</td>\n      <td>5</td>\n      <td>...</td>\n      <td>2</td>\n      <td>0.0</td>\n      <td>0</td>\n      <td>BB</td>\n      <td>BEL</td>\n      <td>A</td>\n      <td>A</td>\n      <td>Transient</td>\n      <td>Check-Out</td>\n      <td>2017-09-06</td>\n    </tr>\n    <tr>\n      <th>119386</th>\n      <td>City Hotel</td>\n      <td>0</td>\n      <td>102</td>\n      <td>2017-08-31</td>\n      <td>2017</td>\n      <td>August</td>\n      <td>35</td>\n      <td>31</td>\n      <td>2</td>\n      <td>5</td>\n      <td>...</td>\n      <td>3</td>\n      <td>0.0</td>\n      <td>0</td>\n      <td>BB</td>\n      <td>FRA</td>\n      <td>E</td>\n      <td>E</td>\n      <td>Transient</td>\n      <td>Check-Out</td>\n      <td>2017-09-07</td>\n    </tr>\n    <tr>\n      <th>119387</th>\n      <td>City Hotel</td>\n      <td>0</td>\n      <td>34</td>\n      <td>2017-08-31</td>\n      <td>2017</td>\n      <td>August</td>\n      <td>35</td>\n      <td>31</td>\n      <td>2</td>\n      <td>5</td>\n      <td>...</td>\n      <td>2</td>\n      <td>0.0</td>\n      <td>0</td>\n      <td>BB</td>\n      <td>DEU</td>\n      <td>D</td>\n      <td>D</td>\n      <td>Transient</td>\n      <td>Check-Out</td>\n      <td>2017-09-07</td>\n    </tr>\n    <tr>\n      <th>119388</th>\n      <td>City Hotel</td>\n      <td>0</td>\n      <td>109</td>\n      <td>2017-08-31</td>\n      <td>2017</td>\n      <td>August</td>\n      <td>35</td>\n      <td>31</td>\n      <td>2</td>\n      <td>5</td>\n      <td>...</td>\n      <td>2</td>\n      <td>0.0</td>\n      <td>0</td>\n      <td>BB</td>\n      <td>GBR</td>\n      <td>A</td>\n      <td>A</td>\n      <td>Transient</td>\n      <td>Check-Out</td>\n      <td>2017-09-07</td>\n    </tr>\n    <tr>\n      <th>119389</th>\n      <td>City Hotel</td>\n      <td>0</td>\n      <td>205</td>\n      <td>2017-08-29</td>\n      <td>2017</td>\n      <td>August</td>\n      <td>35</td>\n      <td>29</td>\n      <td>2</td>\n      <td>7</td>\n      <td>...</td>\n      <td>2</td>\n      <td>0.0</td>\n      <td>0</td>\n      <td>HB</td>\n      <td>DEU</td>\n      <td>A</td>\n      <td>A</td>\n      <td>Transient</td>\n      <td>Check-Out</td>\n      <td>2017-09-07</td>\n    </tr>\n  </tbody>\n</table>\n<p>119390 rows × 21 columns</p>\n</div>"
          },
          "metadata": {}
        }
      ],
      "execution_count": 41
    },
    {
      "cell_type": "markdown",
      "source": "Описание данных.\nИмеются следующие переменные:\n\nHotel – тип отеля (City Hotel или Resort Hotel)\n\nIs canceled – бронирование было отменено (1) или нет (0); не отмененное считается успешным\n\nLead time – количество дней, прошедших между датой бронирования и датой прибытия\n\nArrival full date – полная дата прибытия\n\nArrival date year – год прибытия\n\nArrival date month – месяц прибытия\n\nArrival date week number – номер недели прибытия\n\nArrival date day of month – день прибытия\n\nStays in weekend nights – количество выходных (суббота или воскресенье), которые гость забронировал для проживания в отеле\n\nStays in week nights – количество дней (с понедельника по пятницу), которые гость забронировал для проживания в отеле\n\nStays total nights – общее число забронированных ночей (сумма двух предыдущих колонок)\n\nAdults – число взрослых\n\nChildren – число детей\n\nBabies – число младенцев\n\nMeal – выбранный тип питания\n\nCountry – страна происхождения клиента\n\nReserved room type – тип зарезервированного номера\n\nAssigned room type – тип полученного номера (может отличаться от забронированного)\n\nCustomer type – тип бронирования\n\nReservation status – значение последнего статуса брони: Canceled - было отменено клиентом; Check-Out - клиент зарегистрировался, но уже покинул отель; No-Show - клиент не зарегистрировался и сообщил администрации отеля причину\n\nReservation status date – дата обновления статуса",
      "metadata": {}
    },
    {
      "cell_type": "markdown",
      "source": "# Задание 2. \nСохраните прочитанный датасет в bookings.\nЗатем запишите первые 7 строк в переменную bookings_head.",
      "metadata": {}
    },
    {
      "cell_type": "markdown",
      "source": "bookings = bookDF\nbookings_head = bookings.head(7)\nbookings_head",
      "metadata": {}
    },
    {
      "cell_type": "markdown",
      "source": "# Задание 3. \n\nПосмотрите на размеры таблицы. Сколько всего в ней столбцов?",
      "metadata": {}
    },
    {
      "cell_type": "code",
      "source": "bookings.shape",
      "metadata": {
        "trusted": true
      },
      "outputs": [
        {
          "execution_count": 39,
          "output_type": "execute_result",
          "data": {
            "text/plain": "(119390, 21)"
          },
          "metadata": {}
        }
      ],
      "execution_count": 39
    },
    {
      "cell_type": "code",
      "source": "#21 стобец, 119390 - строк",
      "metadata": {
        "trusted": true
      },
      "outputs": [],
      "execution_count": null
    },
    {
      "cell_type": "markdown",
      "source": "# Задание 4. \n\nК какому типу относится большинство переменных?",
      "metadata": {}
    },
    {
      "cell_type": "code",
      "source": "bookings.dtypes.value_counts()\n# чтобы руками не считать кол-во, применил value_counts() к типам данных dtypes",
      "metadata": {
        "trusted": true
      },
      "outputs": [
        {
          "execution_count": 44,
          "output_type": "execute_result",
          "data": {
            "text/plain": "object     10\nint64      10\nfloat64     1\nName: count, dtype: int64"
          },
          "metadata": {}
        }
      ],
      "execution_count": 45
    },
    {
      "cell_type": "code",
      "source": "# Задание 5.\n\nКак вы уже могли заметить, при сборе датасета произошла небольшая ошибка, и названия колонок были записаны \nв неудобном для дальнейшей работы формате. Исправьте ситуацию, \nприведя названия столбцов к нижнему регистру и заменив пробелы на знак нижнего подчеркивания.\n\nНапример: Is Canceled -> is_canceled\n\nПодсказка: вы можете использовать цикл, который будет проходить по bookings.columns, а в теле цикла использовать методы строк:\n\n\ncolumn.replace(\" \", \"_\").lower()",
      "metadata": {
        "trusted": true
      },
      "outputs": [],
      "execution_count": null
    },
    {
      "cell_type": "markdown",
      "source": "# ---------------------\n# мой вариант с функцией не сработал... пока что)\n# def Colomn_lower(column):\n#    return column.replace(\" \", \"_\").lower()\n#for col in bookings.colomns:\n#    bookings.rename(colomns=Colomn_lower(col))\n# ---------------------\n# вариант с использованием STR\n#bookings.columns = bookings.columns.str.lower().str.replace(' ', '_')\n\n# ---------------------\n# через лямбда-функцию\n#bookings = bookings.rename(columns=lambda x: x.lower().replace(' ', '_'))\n\n# ---------------------\n# через цикл\nrename_cols = {}\nfor col in bookings.columns:\n    rename_cols[col] = col.replace(\" \", \"_\").lower()\n\nrename_cols\n\nbookings = bookings.rename(columns=rename_cols)\nbookings\n\n    ",
      "metadata": {
        "jp-MarkdownHeadingCollapsed": true
      }
    },
    {
      "cell_type": "markdown",
      "source": "# Задание 6.\n\nПользователи из каких стран совершили наибольшее число успешных бронирований? Бронирование считается успешным, если в дальнейшем не было отменено (переменная is_canceled). В качестве ответа выберите страны, входящие в топ-5.\n\nПодсказка: здесь необходимо сделать группировку по ['country'] и агрегирование по сумме 'is_canceled'.\n",
      "metadata": {}
    },
    {
      "cell_type": "markdown",
      "source": "# Задание 7.\n\nНа сколько ночей (stays_total_nights) в среднем бронируют отели типа City Hotel? Resort Hotel?",
      "metadata": {}
    },
    {
      "cell_type": "code",
      "source": "midNight = bookings \\\n    .query(\"hotel=='City Hotel' | hotel=='Resort Hotel'\") \\\n    .groupby(['hotel'], as_index = False) \\\n    .aggregate({'stays_total_nights': 'mean'}) \\\n    .sort_values('hotel', ascending=False)\nmidNight",
      "metadata": {
        "trusted": true
      },
      "outputs": [
        {
          "execution_count": 61,
          "output_type": "execute_result",
          "data": {
            "text/plain": "          hotel  stays_total_nights\n1  Resort Hotel            4.318547\n0    City Hotel            2.978142",
            "text/html": "<div>\n<style scoped>\n    .dataframe tbody tr th:only-of-type {\n        vertical-align: middle;\n    }\n\n    .dataframe tbody tr th {\n        vertical-align: top;\n    }\n\n    .dataframe thead th {\n        text-align: right;\n    }\n</style>\n<table border=\"1\" class=\"dataframe\">\n  <thead>\n    <tr style=\"text-align: right;\">\n      <th></th>\n      <th>hotel</th>\n      <th>stays_total_nights</th>\n    </tr>\n  </thead>\n  <tbody>\n    <tr>\n      <th>1</th>\n      <td>Resort Hotel</td>\n      <td>4.318547</td>\n    </tr>\n    <tr>\n      <th>0</th>\n      <td>City Hotel</td>\n      <td>2.978142</td>\n    </tr>\n  </tbody>\n</table>\n</div>"
          },
          "metadata": {}
        }
      ],
      "execution_count": 62
    },
    {
      "cell_type": "markdown",
      "source": "# Задание 8.\n\nИногда тип номера, присвоенного клиенту (assigned_room_type), отличается от изначально забронированного (reserved_room_type). Такое может произойти, например, по причине овербукинга. Сколько подобных наблюдений встретилось в датасете?\n\n*отмена бронирования также считается\n\n\nПодсказка: воспользуйтесь  .query('reserved_room_type != assigned_room_type')",
      "metadata": {}
    },
    {
      "cell_type": "code",
      "source": "defRoom = bookings \\\n    .query(\"(reserved_room_type != assigned_room_type) | (is_canceled==1)\") \\\n    .groupby('hotel', as_index = False) \\\n    .aggregate(total_nights=('stays_total_nights', 'sum'))\ndefRoom",
      "metadata": {
        "trusted": true
      },
      "outputs": [
        {
          "execution_count": 104,
          "output_type": "execute_result",
          "data": {
            "text/plain": "          hotel  total_nights\n0    City Hotel        118992\n1  Resort Hotel         74119",
            "text/html": "<div>\n<style scoped>\n    .dataframe tbody tr th:only-of-type {\n        vertical-align: middle;\n    }\n\n    .dataframe tbody tr th {\n        vertical-align: top;\n    }\n\n    .dataframe thead th {\n        text-align: right;\n    }\n</style>\n<table border=\"1\" class=\"dataframe\">\n  <thead>\n    <tr style=\"text-align: right;\">\n      <th></th>\n      <th>hotel</th>\n      <th>total_nights</th>\n    </tr>\n  </thead>\n  <tbody>\n    <tr>\n      <th>0</th>\n      <td>City Hotel</td>\n      <td>118992</td>\n    </tr>\n    <tr>\n      <th>1</th>\n      <td>Resort Hotel</td>\n      <td>74119</td>\n    </tr>\n  </tbody>\n</table>\n</div>"
          },
          "metadata": {}
        }
      ],
      "execution_count": 105
    },
    {
      "cell_type": "markdown",
      "source": "# Задание 9.\n\nТеперь проанализируйте даты запланированного прибытия (arrival_date_year). На какой месяц чаще всего оформляли бронь в 2016 году? Изменился ли самый популярный месяц в 2017?\n\nВам пригодится arrival_date_month.agg(pd.Series.mode) - Mode - возвращает самое часто встречаемое значение, если таких несколько возвращает их все\n",
      "metadata": {}
    },
    {
      "cell_type": "code",
      "source": "# можно попробовать так\nbookings.groupby('arrival_date_year').arrival_date_month.agg(pd.Series.mode)",
      "metadata": {
        "trusted": true
      },
      "outputs": [
        {
          "execution_count": 84,
          "output_type": "execute_result",
          "data": {
            "text/plain": "arrival_date_year\n2015    September\n2016      October\n2017          May\nName: arrival_date_month, dtype: object"
          },
          "metadata": {}
        }
      ],
      "execution_count": 85
    },
    {
      "cell_type": "code",
      "source": "# можно попробовать так\nusfullmonth = bookings \\\n    .query('(reserved_room_type != assigned_room_type) | (is_canceled==1)') \\\n    .groupby(['arrival_date_year'], as_index = False) \\\n    .aggregate(\n        total_nights=('stays_total_nights', 'sum'),\n        most_common_month=('arrival_date_month', lambda x: x.mode()[0])\n    )\nusfullmonth",
      "metadata": {
        "trusted": true
      },
      "outputs": [
        {
          "execution_count": 83,
          "output_type": "execute_result",
          "data": {
            "text/plain": "   arrival_date_year  total_nights most_common_month\n0               2015         36784         September\n1               2016         89104           October\n2               2017         67223               May",
            "text/html": "<div>\n<style scoped>\n    .dataframe tbody tr th:only-of-type {\n        vertical-align: middle;\n    }\n\n    .dataframe tbody tr th {\n        vertical-align: top;\n    }\n\n    .dataframe thead th {\n        text-align: right;\n    }\n</style>\n<table border=\"1\" class=\"dataframe\">\n  <thead>\n    <tr style=\"text-align: right;\">\n      <th></th>\n      <th>arrival_date_year</th>\n      <th>total_nights</th>\n      <th>most_common_month</th>\n    </tr>\n  </thead>\n  <tbody>\n    <tr>\n      <th>0</th>\n      <td>2015</td>\n      <td>36784</td>\n      <td>September</td>\n    </tr>\n    <tr>\n      <th>1</th>\n      <td>2016</td>\n      <td>89104</td>\n      <td>October</td>\n    </tr>\n    <tr>\n      <th>2</th>\n      <td>2017</td>\n      <td>67223</td>\n      <td>May</td>\n    </tr>\n  </tbody>\n</table>\n</div>"
          },
          "metadata": {}
        }
      ],
      "execution_count": 84
    },
    {
      "cell_type": "markdown",
      "source": "# Задание 10.\n\nСгруппируйте данные по годам, а затем проверьте, на какой месяц (arrival_date_month) бронирования отеля типа \nCity Hotel отменялись чаще всего в 2015? 2016? 2017?\n\nПодсказка: для этого сначала примените метод groupby, после чего выберите нужную колонку для дальнейших действий\n\nНапример:\n\ndf.groupby('column_1')['column_2'].what_to_do()",
      "metadata": {}
    },
    {
      "cell_type": "code",
      "source": "bookings.groupby(['arrival_date_year', 'arrival_date_month']).is_canceled.sum().groupby(['arrival_date_year']).nlargest(1)",
      "metadata": {
        "trusted": true
      },
      "outputs": [
        {
          "execution_count": 87,
          "output_type": "execute_result",
          "data": {
            "text/plain": "arrival_date_year  arrival_date_year  arrival_date_month\n2015               2015               September             2094\n2016               2016               October               2514\n2017               2017               May                   2762\nName: is_canceled, dtype: int64"
          },
          "metadata": {}
        }
      ],
      "execution_count": 88
    },
    {
      "cell_type": "markdown",
      "source": "# Задание 11.\n\nПосмотрите на числовые характеристики трёх колонок: adults, children и babies. Какая из них имеет наибольшее среднее значение?",
      "metadata": {}
    },
    {
      "cell_type": "code",
      "source": "bookings[['adults','children','babies']].mean()",
      "metadata": {
        "trusted": true
      },
      "outputs": [
        {
          "execution_count": 89,
          "output_type": "execute_result",
          "data": {
            "text/plain": "adults      1.856403\nchildren    0.103890\nbabies      0.007949\ndtype: float64"
          },
          "metadata": {}
        }
      ],
      "execution_count": 90
    },
    {
      "cell_type": "markdown",
      "source": "# Задание 12\n\nСоздайте колонку total_kids, объединив столбцы children и babies. Для отелей какого типа среднее значение переменной оказалось наибольшим?\n\nCity hotel – отель находится в городе Resort hotel – отель курортный\n\nВ качестве ответа укажите наибольшее среднее total_kids, округлив до 2 знаков после точки.\n\n\nПодсказка: Создать новый столбец из 2-х предыдущих довольно просто, например\nbookings['новый столбец'] = bookings.старый_столбец_1 + bookings.старый_столбец_2",
      "metadata": {}
    },
    {
      "cell_type": "code",
      "source": "bookings['total_kids'] = bookings.children + bookings.babies\nmeanCh = bookings.groupby('hotel').total_kids.mean()\nmeanCh.round(2)\n",
      "metadata": {
        "trusted": true
      },
      "outputs": [
        {
          "execution_count": 94,
          "output_type": "execute_result",
          "data": {
            "text/plain": "hotel\nCity Hotel      0.10\nResort Hotel    0.14\nName: total_kids, dtype: float64"
          },
          "metadata": {}
        }
      ],
      "execution_count": 95
    },
    {
      "cell_type": "code",
      "source": "",
      "metadata": {
        "trusted": true
      },
      "outputs": [],
      "execution_count": null
    }
  ]
}